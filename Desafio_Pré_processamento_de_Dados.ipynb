{
  "nbformat": 4,
  "nbformat_minor": 0,
  "metadata": {
    "colab": {
      "provenance": [],
      "authorship_tag": "ABX9TyN9ISqFmL0AXKcYIQPxlpaj",
      "include_colab_link": true
    },
    "kernelspec": {
      "name": "python3",
      "display_name": "Python 3"
    },
    "language_info": {
      "name": "python"
    }
  },
  "cells": [
    {
      "cell_type": "markdown",
      "metadata": {
        "id": "view-in-github",
        "colab_type": "text"
      },
      "source": [
        "<a href=\"https://colab.research.google.com/github/gmac1el/Big-Data/blob/main/Desafio_Pr%C3%A9_processamento_de_Dados.ipynb\" target=\"_parent\"><img src=\"https://colab.research.google.com/assets/colab-badge.svg\" alt=\"Open In Colab\"/></a>"
      ]
    },
    {
      "cell_type": "code",
      "execution_count": null,
      "metadata": {
        "id": "8sb68v38lRUA"
      },
      "outputs": [],
      "source": [
        "# 1. Data Profiling\n",
        "print(\"\\nData Profiling\")\n",
        "\n",
        "\n",
        "import pandas as pd\n",
        "\n",
        "# Carregando o conjunto de dados\n",
        "data = pd.read_csv(\"cleaned_all_phones.csv\")\n",
        "\n",
        "# Visualizando as primeiras linhas do conjunto de dados\n",
        "print(data.head())\n",
        "\n",
        "# Verificando informações gerais do conjunto de dados\n",
        "print(data.info())\n",
        "\n",
        "# Verificando estatísticas resumidas\n",
        "print(data.describe())\n",
        "\n",
        "# Verificando valores ausentes\n",
        "print(data.isnull().sum())\n"
      ]
    },
    {
      "cell_type": "code",
      "source": [
        "# 2. Data Cleaning\n",
        "print(\"\\nData Cleaning\")\n",
        "\n",
        "# Lidando com valores ausentes (substituindo por valores adequados ou removendo)\n",
        "data.dropna(inplace=True)  # Removendo linhas com valores ausentes\n",
        "\n",
        "# Lidando com duplicados (removendo duplicatas)\n",
        "data.drop_duplicates(inplace=True)\n",
        "\n",
        "# Lidando com outliers (opcional, dependendo do caso)\n",
        "# Você pode usar técnicas estatísticas para identificar e tratar outliers\n"
      ],
      "metadata": {
        "id": "gscDkdG0ltKL"
      },
      "execution_count": null,
      "outputs": []
    },
    {
      "cell_type": "code",
      "source": [
        "# 3. Data Reduction\n",
        "print(\"\\nData Reduction\")\n",
        "\n",
        "# Selecionando colunas relevantes (se necessário)\n",
        "selected_columns = [\"phone_name\", \"brand\", \"os\", \"inches\", \"battery\", \"ram(GB)\", \"storage(GB)\", \"price(USD)\"]\n",
        "data = data[selected_columns]\n"
      ],
      "metadata": {
        "id": "5jCYx3X_lu_E"
      },
      "execution_count": null,
      "outputs": []
    },
    {
      "cell_type": "code",
      "source": [
        "# 4. Data Transformation\n",
        "print(\"\\nData Transformation\")\n",
        "\n",
        "# Codificando variáveis categóricas (usando one-hot encoding)\n",
        "data = pd.get_dummies(data, columns=[\"brand\", \"os\"])\n",
        "\n",
        "# Normalizando características numéricas (por exemplo, usando Min-Max scaling)\n",
        "from sklearn.preprocessing import MinMaxScaler\n",
        "scaler = MinMaxScaler()\n",
        "data[[\"inches\", \"battery\", \"ram(GB)\", \"storage(GB)\", \"price(USD)\"]] = scaler.fit_transform(data[[\"inches\", \"battery\", \"ram(GB)\", \"storage(GB)\", \"price(USD)\"]])\n"
      ],
      "metadata": {
        "id": "hm-2nTVFlw8a"
      },
      "execution_count": null,
      "outputs": []
    },
    {
      "cell_type": "code",
      "source": [
        "# 4. Data Enrichment\n",
        "print(\"\\nData Enrichment\")\n",
        "\n",
        "# Criando uma nova coluna \"battery_life_hours\" com base na capacidade da bateria e no consumo médio de energia\n",
        "consumo_medio_energia = 0.2  # Consumo médio de energia em watts por hora\n",
        "data['battery_life_hours'] = data['battery'] / consumo_medio_energia\n",
        "\n",
        "# Exibindo as primeiras linhas do conjunto de dados com a nova coluna\n",
        "print(data.head())\n"
      ],
      "metadata": {
        "id": "ZOpGZG5dmHan"
      },
      "execution_count": null,
      "outputs": []
    },
    {
      "cell_type": "code",
      "source": [
        "# 4. Data Validation\n",
        "print(\"\\nData Validation\")\n",
        "\n",
        "# Verificando novamente valores ausentes após o pré-processamento\n",
        "print(data.isnull().sum())\n",
        "\n",
        "# Verificando a consistência dos dados (por exemplo, garantindo que as datas estejam no formato correto)\n",
        "# Validação específica dependerá do seu conjunto de dados e requisitos.\n"
      ],
      "metadata": {
        "id": "oWAOcx1SlzsN"
      },
      "execution_count": null,
      "outputs": []
    }
  ]
}